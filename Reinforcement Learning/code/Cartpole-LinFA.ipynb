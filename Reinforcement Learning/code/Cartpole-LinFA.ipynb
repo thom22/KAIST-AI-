{
 "cells": [
  {
   "cell_type": "markdown",
   "metadata": {},
   "source": [
    "### Cartpole-v1 test"
   ]
  },
  {
   "cell_type": "code",
   "execution_count": 1,
   "metadata": {},
   "outputs": [],
   "source": [
    "import gym\n",
    "import numpy as np\n",
    "import matplotlib.pyplot as plt"
   ]
  },
  {
   "cell_type": "markdown",
   "metadata": {},
   "source": [
    "### Angle Reward function"
   ]
  },
  {
   "cell_type": "code",
   "execution_count": 2,
   "metadata": {},
   "outputs": [],
   "source": [
    "def angleReward(obs, r):\n",
    "    ang = np.abs(obs[2])\n",
    "    return np.float32(r + 10*ang)"
   ]
  },
  {
   "cell_type": "code",
   "execution_count": 17,
   "metadata": {},
   "outputs": [],
   "source": [
    "env = gym.make(\"CartPole-v1\")\n",
    "obs = env.reset()    \n",
    "for i in range(1000):\n",
    "    env.render()\n",
    "    action = env.action_space.sample() # random action\n",
    "    obs, reward, done, info = env.step(action)\n",
    "    reward = angleReward(obs, reward)\n",
    "#     print(i, action, obs)\n",
    "    if done:\n",
    "        break\n",
    "        obs = env.reset()"
   ]
  },
  {
   "cell_type": "code",
   "execution_count": 18,
   "metadata": {},
   "outputs": [],
   "source": [
    "env.close()"
   ]
  },
  {
   "cell_type": "markdown",
   "metadata": {},
   "source": [
    "### agent with simple policy"
   ]
  },
  {
   "cell_type": "code",
   "execution_count": 11,
   "metadata": {},
   "outputs": [],
   "source": [
    "def simpleAgent(env, policy, maxStep=1000):\n",
    "    obs = env.reset()\n",
    "    done = False\n",
    "    ret = 0\n",
    "    nStep = 0\n",
    "    while not done:\n",
    "        env.render()\n",
    "        action = policy(obs)\n",
    "        obs, r, done, info = env.step(action)\n",
    "        r = angleReward(obs, r) \n",
    "        ret += r\n",
    "        nStep += 1\n",
    "        if nStep >= maxStep: break\n",
    "    print (f\"# of steps = {nStep}, Score = {ret}\")\n",
    "    return nStep, ret"
   ]
  },
  {
   "cell_type": "markdown",
   "metadata": {},
   "source": [
    "### Random policy"
   ]
  },
  {
   "cell_type": "code",
   "execution_count": 13,
   "metadata": {},
   "outputs": [
    {
     "name": "stdout",
     "output_type": "stream",
     "text": [
      "# of steps = 24, Score = 42.17370581626892\n"
     ]
    }
   ],
   "source": [
    "def policy_random(obs):\n",
    "    if np.random.random() < 0.5:\n",
    "        return 0  # left\n",
    "    else:\n",
    "        return 1  # right\n",
    "    \n",
    "env = gym.make('CartPole-v1').unwrapped\n",
    "simpleAgent(env, policy_random)"
   ]
  },
  {
   "cell_type": "code",
   "execution_count": 18,
   "metadata": {},
   "outputs": [],
   "source": [
    "env.close()"
   ]
  },
  {
   "cell_type": "markdown",
   "metadata": {},
   "source": [
    "### Heuristic policy using angle only"
   ]
  },
  {
   "cell_type": "code",
   "execution_count": 14,
   "metadata": {},
   "outputs": [
    {
     "name": "stdout",
     "output_type": "stream",
     "text": [
      "# of steps = 45, Score = 82.23729848861694\n"
     ]
    }
   ],
   "source": [
    "def policy_angle(obs):\n",
    "    ang = obs[2]\n",
    "    if ang < 0:\n",
    "        return 0  # left\n",
    "    else:\n",
    "        return 1  # right\n",
    "    \n",
    "env = gym.make('CartPole-v1').unwrapped\n",
    "simpleAgent(env, policy_angle)"
   ]
  },
  {
   "cell_type": "code",
   "execution_count": 18,
   "metadata": {},
   "outputs": [],
   "source": [
    "env.close()"
   ]
  },
  {
   "cell_type": "markdown",
   "metadata": {},
   "source": [
    "### Heuristic policy using angle and position"
   ]
  },
  {
   "cell_type": "code",
   "execution_count": 15,
   "metadata": {},
   "outputs": [
    {
     "name": "stdout",
     "output_type": "stream",
     "text": [
      "# of steps = 40, Score = 79.64410078525543\n"
     ]
    }
   ],
   "source": [
    "def policy_angle_pos(obs):\n",
    "    pos = obs[0]\n",
    "    ang = obs[2]\n",
    "    if 10*ang - pos < 0:\n",
    "        return 0  # left\n",
    "    else:\n",
    "        return 1  # right\n",
    "    \n",
    "env = gym.make('CartPole-v1').unwrapped\n",
    "simpleAgent(env, policy_angle_pos)"
   ]
  },
  {
   "cell_type": "code",
   "execution_count": 18,
   "metadata": {},
   "outputs": [],
   "source": [
    "env.close()"
   ]
  },
  {
   "cell_type": "markdown",
   "metadata": {},
   "source": [
    "### Heuristic policy using angle, position, and velocity"
   ]
  },
  {
   "cell_type": "code",
   "execution_count": 16,
   "metadata": {},
   "outputs": [
    {
     "name": "stdout",
     "output_type": "stream",
     "text": [
      "# of steps = 402, Score = 566.6732250452042\n"
     ]
    }
   ],
   "source": [
    "def policy_angle_pos_vel(obs):\n",
    "    pos = obs[0]\n",
    "    vel = obs[1]\n",
    "    ang = obs[2]\n",
    "    if 10*ang + pos - vel < 0:\n",
    "        return 0  # left\n",
    "    else:\n",
    "        return 1  # right\n",
    "    \n",
    "env = gym.make('CartPole-v1').unwrapped\n",
    "simpleAgent(env, policy_angle_pos_vel)"
   ]
  },
  {
   "cell_type": "code",
   "execution_count": 18,
   "metadata": {},
   "outputs": [],
   "source": [
    "env.close()"
   ]
  },
  {
   "cell_type": "code",
   "execution_count": 19,
   "metadata": {},
   "outputs": [
    {
     "name": "stdout",
     "output_type": "stream",
     "text": [
      "# of steps = 37, Score = 72.47981679439545\n",
      "# of steps = 46, Score = 85.26617324352264\n",
      "# of steps = 52, Score = 101.35597372055054\n",
      "# of steps = 444, Score = 610.5356055498123\n"
     ]
    }
   ],
   "source": [
    "env = gym.make('CartPole-v1').unwrapped\n",
    "simpleAgent(env, policy_random)\n",
    "simpleAgent(env, policy_angle)\n",
    "simpleAgent(env, policy_angle_pos)\n",
    "simpleAgent(env, policy_angle_pos_vel)\n",
    "env.close()"
   ]
  },
  {
   "cell_type": "code",
   "execution_count": 20,
   "metadata": {},
   "outputs": [
    {
     "name": "stdout",
     "output_type": "stream",
     "text": [
      "# of steps = 1632, Score = 2631.7863233089447\n"
     ]
    }
   ],
   "source": [
    "def policy_from_CEM(obs):\n",
    "    # plain reward\n",
    "    # w = np.array([-0.00178353, 0.3374739, 0.72456414, 0.45043665]) \n",
    "    # angle reward w/ maxStep = 500\n",
    "    # w = np.array([0.06272953, 0.77593657, 1.61835616, 5.55401569]) \n",
    "    # angle reward w/ maxStep = 2000\n",
    "    w = np.array([0.04187407, 1.66633927, 1.48482396, 4.08942878])\n",
    "    \n",
    "    z = np.dot(w, obs)\n",
    "    if z < 0:\n",
    "        return 0\n",
    "    else:\n",
    "        return 1\n",
    "    \n",
    "env = gym.make('CartPole-v1').unwrapped\n",
    "simpleAgent(env, policy_from_CEM, maxStep=2000)\n",
    "env.close()"
   ]
  },
  {
   "cell_type": "code",
   "execution_count": null,
   "metadata": {},
   "outputs": [],
   "source": [
    "env.close()  # to close video window"
   ]
  },
  {
   "cell_type": "code",
   "execution_count": 3,
   "metadata": {},
   "outputs": [],
   "source": [
    "class AgentBase:\n",
    "    def __init__(self, env):\n",
    "        self.env = env\n",
    "        self.eps = 0.1\n",
    "        self.test = False\n",
    "        self.alpha = 0.01\n",
    "        self.dimState = env.observation_space.shape[0]\n",
    "        self.numAction = env.action_space.n\n",
    "        self.gamma = 1\n",
    "        self.lam = 0\n",
    "        self.nEpisode = 0\n",
    "        self.nStep = 0\n",
    "        self.initQ = 100\n",
    "\n",
    "    def getStateRep(self, obs):\n",
    "        return obs\n",
    "\n",
    "    def getQs(self, s):\n",
    "        return self.Q[s]\n",
    "\n",
    "    def getQa(self, s, a):\n",
    "        return self.Q[s, a]\n",
    "\n",
    "    def getVs(self, s, done=False):\n",
    "        if done:\n",
    "            return 0\n",
    "        qs = self.getQs(s)\n",
    "        return np.max(qs)\n",
    "\n",
    "    def piGreedy(self, state):\n",
    "        q = self.getQs(state)\n",
    "        a = q.argmax()\n",
    "        return a\n",
    "\n",
    "    def getAction(self, state):  # eps-greedy policy\n",
    "        if self.test or (np.random.random() > self.eps):\n",
    "            a = self.piGreedy(state)\n",
    "        else:\n",
    "            a = np.random.choice(self.numAction)\n",
    "        return a\n",
    "\n",
    "    def saveModel(self):\n",
    "        pass\n",
    "\n",
    "    def loadModel(self):\n",
    "        pass\n",
    "\n",
    "    def episodeStart(self):\n",
    "        self.nEpisode += 1\n",
    "        self.alpha = 1/(self.nEpisode + 100)\n",
    "        self.eps = 1/(self.nEpisode + 1)\n",
    "\n",
    "    def runEpisode1(self, maxStep=1000, render=False, stepCB=None, episodeCB=None):\n",
    "        self.episodeStart()\n",
    "        obs = self.env.reset()\n",
    "        s = self.getStateRep(obs)\n",
    "        done = False\n",
    "        ret = 0\n",
    "        nStep = 0\n",
    "        self.ap = None\n",
    "        df = 1\n",
    "        if episodeCB:\n",
    "            S = [s]\n",
    "            A = []\n",
    "            R = []\n",
    "        while not done:\n",
    "            if render:\n",
    "                self.env.render()\n",
    "            if self.ap:\n",
    "                a = self.ap  # SARSA\n",
    "            else:\n",
    "                a = self.getAction(s)\n",
    "            obs, r, done, info = self.env.step(a)\n",
    "            r = angleReward(obs, r)\n",
    "            ret += df * r\n",
    "            df *= self.gamma\n",
    "            sp = self.getStateRep(obs)\n",
    "            if episodeCB:\n",
    "                A.append(a)\n",
    "                R.append(r)\n",
    "                S.append(sp)\n",
    "            if stepCB:\n",
    "                stepCB(s, a, r, sp, done)\n",
    "            s = sp\n",
    "            nStep += 1\n",
    "            if nStep >= maxStep:  # 500 for v1\n",
    "                break\n",
    "        self.nStep = nStep\n",
    "        if not done:\n",
    "            Vs = self.getQs(s).min()\n",
    "            ret += df * Vs\n",
    "            print(f'maxStep reached at {self.nEpisode}, V[s]={Vs}, ret={ret}')\n",
    "\n",
    "        if (self.test == False) and (ret > self.retMax):  # save before episodeCB\n",
    "            self.retMax = ret\n",
    "            print (f'Record at {self.nEpisode}, ret={ret}, nStep={nStep}')\n",
    "            self.saveModel()\n",
    "        if episodeCB:\n",
    "            episodeCB(S, A, R, done)\n",
    "        return ret\n",
    "\n",
    "    def runTrain(self, nEpisode=1000, maxStep=1000, stepCB=None, episodeCB=None):\n",
    "        self.test = False\n",
    "        retHist = []\n",
    "        self.retMax = 0\n",
    "        self.nEpisode = 0\n",
    "        for i in range(nEpisode):\n",
    "            ret = self.runEpisode1(maxStep=maxStep, stepCB=stepCB, episodeCB=episodeCB)\n",
    "            #             print(f\"Training episode {i}, return = {ret} in {self.nStep} steps\")\n",
    "            retHist.append(ret)\n",
    "\n",
    "        self.loadModel()\n",
    "        plt.plot(retHist)\n",
    "        plt.show()\n",
    "\n",
    "    def runTest(self, nEpisode=1, maxStep=1000, fn=None):\n",
    "        if fn:\n",
    "            self.loadModel(fn)\n",
    "        self.test = True\n",
    "        retHist = []\n",
    "        if nEpisode>5:\n",
    "            render = False\n",
    "        else:\n",
    "            render = True\n",
    "        for i in range(nEpisode):\n",
    "            ret = self.runEpisode1(maxStep=maxStep, render=render)\n",
    "            print(f\"Test episode {i}, return = {ret} in {self.nStep} steps\")\n",
    "            retHist.append(ret)\n",
    "\n",
    "        if nEpisode > 1:\n",
    "            G = np.array(retHist)\n",
    "            mean = np.mean(G)\n",
    "            std = np.std(G)\n",
    "            print (f'mean = {mean}, std = {std}')"
   ]
  },
  {
   "cell_type": "code",
   "execution_count": 4,
   "metadata": {},
   "outputs": [],
   "source": [
    "class AgentLinVFA(AgentBase):\n",
    "    def __init__(self, env):\n",
    "        super().__init__(env)\n",
    "        self.dimFeat = (self.dimState+5)*2+1\n",
    "        self.w = np.zeros(self.dimFeat)\n",
    "        self.lam = 0.7\n",
    "\n",
    "    def getFeature(self, s, a):\n",
    "        # quad = [s[0]*s[0], s[1]*s[1], s[2]*s[2], s[3]*s[3], s[0]*s[1], s[0]*s[2], s[0]*s[3], s[1]*s[2], s[1]*s[3], s[2]*s[3]]\n",
    "        quad = [s[0]*s[0], s[2]*s[2], s[0]*s[1], s[0]*s[2], s[1]*s[2]]\n",
    "        s = np.concatenate ((s, quad))\n",
    "        x = np.concatenate(([1], s, (a-0.5)*s))\n",
    "        return x\n",
    "\n",
    "    def saveModel(self, fn=None):\n",
    "        if fn is None:\n",
    "            fn = 'W.VFA.npy'\n",
    "        np.save(fn, self.w)\n",
    "\n",
    "    def loadModel(self, fn=None):\n",
    "        if fn is None:\n",
    "            fn = 'W.VFA.npy'\n",
    "        self.w = np.load(fn)\n",
    "\n",
    "    def printParam(self):\n",
    "        print(f\"{self.nStep}/{self.nEpisode} , w :\", self.w)\n",
    "\n",
    "    def getQs(self, s):\n",
    "        x0 = self.getFeature(s, 0)\n",
    "        q0 = np.dot(self.w, x0)\n",
    "        x1 = self.getFeature(s, 1)\n",
    "        q1 = np.dot(self.w, x1)\n",
    "        return np.array([q0, q1])\n",
    "\n",
    "    def getQa(self, s, a):\n",
    "        xa = self.getFeature(s, a)\n",
    "        return np.dot(self.w, xa)\n",
    "\n",
    "    def episodeStart(self):\n",
    "        # super().episodeStart()\n",
    "        self.nEpisode += 1\n",
    "        self.eps = 1/(self.nEpisode + 1)\n",
    "        self.alpha = 1/(self.nEpisode + 1)\n",
    "        # self.eps = 0.1\n",
    "        # self.alpha = 0.1\n",
    "        self.et = np.zeros(self.dimFeat)\n",
    "\n",
    "    def update(self, target, s, a):\n",
    "        qa = self.getQa(s, a)\n",
    "        delta = target - qa\n",
    "        alpha_delta = delta * self.alpha\n",
    "        gamlam = self.gamma * self.lam\n",
    "        grad = self.getFeature(s, a)\n",
    "        self.et = gamlam*self.et + grad\n",
    "        self.w += alpha_delta*self.et\n",
    "        # self.printParam()\n",
    "\n",
    "    def stepQ(self, s, a, r, sp, done):\n",
    "        maxq = self.getVs(sp, done)\n",
    "        self.ap = None\n",
    "        target = r + self.gamma * maxq\n",
    "        self.update(target, s, a)\n",
    "\n",
    "    def stepSARSA(self, s, a, r, sp, done):\n",
    "        self.ap = self.getAction(sp)\n",
    "        qp = self.getQa(sp, self.ap)\n",
    "        target = r + self.gamma * qp\n",
    "        self.update(target, s, a)\n",
    "\n",
    "    def episodeMC(self, S, A, R, done):\n",
    "        T = len(R)\n",
    "        if done:\n",
    "            G = 0\n",
    "        else:\n",
    "            G = self.getVs(S[-1])\n",
    "        for t in range(T - 1, -1, -1):\n",
    "            G = self.gamma * G + R[t]\n",
    "            self.update(G, S[t], A[t])\n",
    "        # self.printParam()\n",
    "        "
   ]
  },
  {
   "cell_type": "code",
   "execution_count": 9,
   "metadata": {},
   "outputs": [
    {
     "name": "stdout",
     "output_type": "stream",
     "text": [
      "Record at 1, ret=24.881914973258972, nStep=15\n",
      "Record at 2, ret=215.70493876934052, nStep=162\n",
      "Record at 125, ret=217.0362913608551, nStep=142\n",
      "Record at 126, ret=217.62455034255981, nStep=130\n",
      "Record at 145, ret=225.93858134746552, nStep=139\n",
      "Record at 151, ret=251.68633031845093, nStep=159\n",
      "Record at 172, ret=291.50401389598846, nStep=183\n",
      "Record at 258, ret=305.4108930826187, nStep=170\n",
      "Record at 280, ret=339.4967613220215, nStep=194\n"
     ]
    },
    {
     "data": {
      "image/png": "[encoded data removed]",
      "text/plain": [
       "<Figure size 432x288 with 1 Axes>"
      ]
     },
     "metadata": {
      "needs_background": "light"
     },
     "output_type": "display_data"
    },
    {
     "name": "stdout",
     "output_type": "stream",
     "text": [
      "40/5000 , w : [  95.25292909  146.95714025   24.8876013   -12.36212269  229.50519078\n",
      "  -92.22089346 -134.57830255  -91.34740559   43.26280749  -90.61891046\n",
      "  519.47606575   56.58641625  136.59384934  663.13544452 -107.34234051\n",
      "   -0.86044672 -105.27870966   -9.55764782 -165.58926326]\n",
      "Test episode 0, return = 139.21032297611237 in 85 steps\n"
     ]
    }
   ],
   "source": [
    "env = gym.make('CartPole-v1').unwrapped\n",
    "agent = AgentLinVFA(env)\n",
    "agent.alpha = 0.01\n",
    "agent.runTrain(episodeCB=agent.episodeMC, nEpisode=5000)\n",
    "# agent.runTrain(stepCB=agent.stepTD, nEpisode=1000)\n",
    "agent.printParam()\n",
    "agent.runTest()\n",
    "env.close()"
   ]
  },
  {
   "cell_type": "code",
   "execution_count": 16,
   "metadata": {},
   "outputs": [
    {
     "name": "stdout",
     "output_type": "stream",
     "text": [
      "Test episode 0, return = 176.76886022090912 in 117 steps\n"
     ]
    }
   ],
   "source": [
    "env = gym.make('CartPole-v1').unwrapped\n",
    "agent = AgentLinVFA(env)\n",
    "agent.loadModel()\n",
    "agent.runTest()\n",
    "env.close()"
   ]
  },
  {
   "cell_type": "code",
   "execution_count": 15,
   "metadata": {},
   "outputs": [],
   "source": [
    "class AgentStateAgg(AgentLinVFA):\n",
    "    def __init__(self, env):\n",
    "        super().__init__(env)\n",
    "        b = [[-1.0, -0.6, -0.3, -0.1, 0.1, 0.3, 0.6, 1.0],\n",
    "             [-2, -1, -0.2, 0.2, 1, 2],\n",
    "             [-0.17, -0.1, -0.05, -0.025, -0.005, 0.005, 0.025, 0.05, 0.1, 0.17],\n",
    "             [-2, -1, -0.2, 0.2, 1, 2]]\n",
    "        # b = [[-2, -1.2, -0.6, -0.1, 0.1, 0.6, 1.2, 2],  # 'Q.StAgg-Ret6514.npy'\n",
    "        #      [-2, -1, -0.2, 0.2, 1, 2],\n",
    "        #      [-0.17, -0.1, -0.05, -0.025, -0.005, 0.005, 0.025, 0.05, 0.1, 0.17],\n",
    "        #      [-2, -1, -0.2, 0.2, 1, 2]]\n",
    "        # b = [[-1.2, -0.3, 0.3, 1.2],\n",
    "        #      [-1.5, -0.5, 0.5, 1.5],\n",
    "        #      [-0.1, -0.05, 0.05, 0.1],\n",
    "        #      [-2, -0.5, 0.5,  2]]\n",
    "        self.breaks = b\n",
    "        self.nBreaks = [len(b[0]),len(b[1]),len(b[2]),len(b[3])]\n",
    "        self.dimV = [len(b[0])+1,len(b[1])+1,len(b[2])+1,len(b[3])+1]\n",
    "        self.dimQ = self.dimV + [2]\n",
    "        self.Q = np.full(self.dimQ, self.initQ, dtype=float)\n",
    "        self.NV = np.zeros(self.dimV, dtype=int)\n",
    "        self.NQ = np.zeros(self.dimQ, dtype=int)\n",
    "        self.lam = 0.7\n",
    "        # self.mins = np.zeros(4)\n",
    "        # self.maxs = np.zeros(4)\n",
    "\n",
    "    def printParam(self):\n",
    "        # print(f\"{self.nStep}/{self.nEpisode} , Q :\", self.Q[1,1,1,1])\n",
    "        pass\n",
    "\n",
    "    def getIndexS(self, s):\n",
    "        # self.mins = np.minimum(self.mins, s)\n",
    "        # self.maxs = np.maximum(self.maxs, s)\n",
    "        lidx = []\n",
    "        for i in range(4):\n",
    "            j = 0\n",
    "            while j<self.nBreaks[i] and s[i] > self.breaks[i][j]:\n",
    "                j += 1\n",
    "            lidx.append(j)\n",
    "        tidx = tuple(lidx)\n",
    "        return tidx, lidx\n",
    "\n",
    "    def getIndexSA(self, s, a):\n",
    "        idxS, lidx = self.getIndexS(s)\n",
    "        lidx.append(a)\n",
    "        idxSA = tuple(lidx)\n",
    "        return idxSA, idxS\n",
    "\n",
    "    def getQs(self, s):\n",
    "        idx,_ = self.getIndexS(s)\n",
    "        return self.Q[idx]\n",
    "\n",
    "    def getQa(self, s, a):\n",
    "        idx,_ = self.getIndexSA(s,a)\n",
    "        return self.Q[idx]\n",
    "\n",
    "    def getAction(self, state):  # untried action first\n",
    "        q = self.getQs(state)\n",
    "        ga = q.argmax()\n",
    "        if self.test: return ga\n",
    "        if q[0] == self.initQ:\n",
    "            return 0  # untried action\n",
    "        elif q[1] == self.initQ:\n",
    "            return 1\n",
    "        elif np.random.random() > self.eps:\n",
    "            return ga\n",
    "        else:\n",
    "            return np.random.choice(self.numAction)\n",
    "\n",
    "\n",
    "    def update(self, target, s, a):\n",
    "        idxSA,idxS = self.getIndexSA(s,a)\n",
    "        # print(self.Q[idxS])\n",
    "        self.NQ[idxSA] += 1\n",
    "        self.NV[idxS] += 1\n",
    "        self.alpha = 1/self.NQ[idxSA]\n",
    "        self.Q[idxSA] += (target - self.Q[idxSA]) * self.alpha\n",
    "        # print (self.Q[idxS])\n",
    "        # self.printParam()\n",
    "\n",
    "    def saveModel(self, fn=None):\n",
    "        if fn is None:\n",
    "            fn = 'Q.StAgg.npy'\n",
    "        np.save(fn, self.Q)\n",
    "\n",
    "    def loadModel(self, fn=None):\n",
    "        if fn is None:\n",
    "            fn = 'Q.StAgg.npy'\n",
    "        self.Q = np.load(fn)"
   ]
  },
  {
   "cell_type": "code",
   "execution_count": 18,
   "metadata": {},
   "outputs": [
    {
     "name": "stdout",
     "output_type": "stream",
     "text": [
      "Record at 1, ret=18.408929228782654, nStep=10\n",
      "Record at 2, ret=27.554908514022827, nStep=13\n",
      "Record at 3, ret=47.99494481086731, nStep=31\n",
      "Record at 6, ret=51.60437595844269, nStep=36\n",
      "Record at 8, ret=143.0462063550949, nStep=75\n",
      "Record at 28, ret=222.04238426685333, nStep=126\n",
      "Record at 72, ret=231.06013584136963, nStep=101\n",
      "Record at 83, ret=236.83221054077148, nStep=119\n",
      "Record at 88, ret=292.5540623664856, nStep=151\n",
      "Record at 191, ret=303.92513930797577, nStep=155\n",
      "Record at 258, ret=329.8105808496475, nStep=168\n",
      "Record at 452, ret=331.4083718061447, nStep=173\n",
      "Record at 702, ret=334.5132429599762, nStep=192\n",
      "Record at 887, ret=341.54221296310425, nStep=189\n",
      "Record at 1120, ret=457.442547917366, nStep=230\n",
      "Record at 1591, ret=467.1534731388092, nStep=236\n",
      "Record at 1964, ret=527.8914705514908, nStep=268\n"
     ]
    },
    {
     "data": {
      "image/png": "[encoded data removed]",
      "text/plain": [
       "<Figure size 432x288 with 1 Axes>"
      ]
     },
     "metadata": {
      "needs_background": "light"
     },
     "output_type": "display_data"
    },
    {
     "name": "stdout",
     "output_type": "stream",
     "text": [
      "Test episode 0, return = 112.13729918003082 in 54 steps\n"
     ]
    }
   ],
   "source": [
    "env = gym.make('CartPole-v1').unwrapped\n",
    "agent = AgentStateAgg(env)\n",
    "# agent.runTrain(episodeCB=agent.episodeMC, nEpisode=10000, maxStep=2000)\n",
    "# agent.runTrain(stepCB=agent.stepSARSA, nEpisode=10000)\n",
    "agent.runTrain(stepCB=agent.stepQ, nEpisode=5000)\n",
    "agent.runTest()\n",
    "env.close()"
   ]
  },
  {
   "cell_type": "code",
   "execution_count": 17,
   "metadata": {},
   "outputs": [
    {
     "name": "stdout",
     "output_type": "stream",
     "text": [
      "Test episode 0, return = 187.16479432582855 in 95 steps\n"
     ]
    }
   ],
   "source": [
    "env = gym.make('CartPole-v1').unwrapped\n",
    "agent = AgentStateAgg(env)\n",
    "agent.loadModel(fn)\n",
    "agent.runTest(nEpisode=100)\n",
    "env.close()"
   ]
  },
  {
   "cell_type": "code",
   "execution_count": null,
   "metadata": {},
   "outputs": [],
   "source": []
  }
 ],
 "metadata": {
  "kernelspec": {
   "display_name": "Python 3 (ipykernel)",
   "language": "python",
   "name": "python3"
  },
  "language_info": {
   "codemirror_mode": {
    "name": "ipython",
    "version": 3
   },
   "file_extension": ".py",
   "mimetype": "text/x-python",
   "name": "python",
   "nbconvert_exporter": "python",
   "pygments_lexer": "ipython3",
   "version": "3.8.13"
  }
 },
 "nbformat": 4,
 "nbformat_minor": 4
}