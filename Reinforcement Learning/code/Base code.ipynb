{
 "cells": [
  {
   "cell_type": "code",
   "execution_count": null,
   "metadata": {},
   "outputs": [],
   "source": []
  },
  {
   "cell_type": "code",
   "execution_count": 1,
   "metadata": {},
   "outputs": [],
   "source": [
    "import gym\n",
    "import math\n",
    "import random\n",
    "import numpy as np\n",
    "import matplotlib.pyplot as plt\n",
    "import matplotlib.image as img\n",
    "\n",
    "import torch\n",
    "import torch.nn as nn\n",
    "import torch.optim as optim\n",
    "import torch.nn.functional as F"
   ]
  },
  {
   "cell_type": "code",
   "execution_count": 2,
   "metadata": {},
   "outputs": [],
   "source": [
    "def reward(obs, r):\n",
    "    return np.float32(r)"
   ]
  },
  {
   "cell_type": "code",
   "execution_count": 3,
   "metadata": {},
   "outputs": [],
   "source": [
    "def getAction(obs):\n",
    "    if obs[2] < 0:\n",
    "        return 0  # left\n",
    "    else:\n",
    "        return 1  # right\n"
   ]
  },
  {
   "cell_type": "code",
   "execution_count": 4,
   "metadata": {},
   "outputs": [],
   "source": [
    "def getAction(obs):\n",
    "    pos = obs[0]\n",
    "    ang = obs[2]\n",
    "    if 10*ang - pos < 0:\n",
    "        return 0  # left\n",
    "    else:\n",
    "        return 1  # right\n"
   ]
  },
  {
   "cell_type": "code",
   "execution_count": 5,
   "metadata": {},
   "outputs": [],
   "source": [
    "def getAction(obs):\n",
    "    pos = obs[0]\n",
    "    vel = obs[1]\n",
    "    ang = obs[2]\n",
    "    if 10*ang + pos - vel < 0:\n",
    "        return 0  # left\n",
    "    else:\n",
    "        return 1  # right"
   ]
  },
  {
   "cell_type": "code",
   "execution_count": 6,
   "metadata": {},
   "outputs": [],
   "source": [
    "def simpleHeuristic(env):\n",
    "    obs = env.reset()\n",
    "    # obs = [x_pos, x_vel, angle, pole tip speed]\n",
    "    # episode ends (done = True) when obs[2] > 0.20944 (12 degree)\n",
    "    i = 1\n",
    "    done = False\n",
    "    ret = 0\n",
    "    while not done:\n",
    "        env.render()\n",
    "        action = getAction(obs)\n",
    "        # action = env.action_space.sample()\n",
    "        obs, r, done, info = env.step(action)\n",
    "        r = reward(obs, r) \n",
    "        ret += r\n",
    "    print (f\"Score = {ret}\")"
   ]
  },
  {
   "cell_type": "code",
   "execution_count": 7,
   "metadata": {},
   "outputs": [
    {
     "name": "stdout",
     "output_type": "stream",
     "text": [
      "Score = 347.0\n"
     ]
    }
   ],
   "source": [
    "env = gym.make('CartPole-v0').unwrapped\n",
    "simpleHeuristic(env)\n",
    "env.close()"
   ]
  },
  {
   "cell_type": "code",
   "execution_count": 8,
   "metadata": {},
   "outputs": [],
   "source": [
    "env.close()"
   ]
  },
  {
   "cell_type": "code",
   "execution_count": 9,
   "metadata": {},
   "outputs": [],
   "source": [
    "class ReplayMemory(object):\n",
    "\n",
    "    def __init__(self, capacity):\n",
    "        self.capacity = capacity\n",
    "        self.memory = []\n",
    "        self.position = 0\n",
    "\n",
    "    def segTuple(self, s, a, r, sp, done):\n",
    "        seg = (s, a, r, sp, done)\n",
    "        return seg\n",
    "\n",
    "    def push(self, s, a, r, sp, done):\n",
    "        if len(self.memory) < self.capacity:\n",
    "            self.memory.append(None)\n",
    "        self.memory[self.position] = self.segTuple(s,a,r,sp,done)\n",
    "        self.position = (self.position + 1) % self.capacity\n",
    "\n",
    "    def sample(self, batch_size):\n",
    "        return random.sample(self.memory, batch_size)\n",
    "\n",
    "    def __len__(self):\n",
    "        return len(self.memory)\n",
    "\n",
    "    def clear(self):\n",
    "        self.position = 0\n",
    "\n",
    "    def getLast(self):\n",
    "        p = self.position - 1\n",
    "        if p < 0:  p = self.capacity - 1\n",
    "        return self.memory[p]"
   ]
  },
  {
   "cell_type": "code",
   "execution_count": 10,
   "metadata": {},
   "outputs": [],
   "source": [
    "class AgentBase:\n",
    "    def __init__(self, env):\n",
    "        self.env = env\n",
    "        self.eps = 0.5\n",
    "        self.dimState = env.observation_space.shape[0]\n",
    "        self.dimAction = env.action_space.n\n",
    "        self.gamma = 0.99\n",
    "        self.rb = ReplayMemory(50000)\n",
    "\n",
    "    def getStateRep(self, obs):\n",
    "        return obs\n",
    "\n",
    "    def getQ(self, s):\n",
    "        return self.Q[s]\n",
    "\n",
    "    def piGreedy(self, state):\n",
    "        q = self.getQ(state)\n",
    "        a = q.argmax()\n",
    "        return a\n",
    "\n",
    "    def getAction(self, state):  # eps-greedy policy\n",
    "        # eps-greedy\n",
    "        if np.random.random() < self.eps:\n",
    "            a = np.random.choice(self.dimAction)\n",
    "            self.eps *= 0.99\n",
    "            # print (f\"exploration move, eps={self.eps}\")\n",
    "        else:\n",
    "            a = self.piGreedy(state)\n",
    "        return a\n",
    "\n",
    "    @staticmethod\n",
    "    def getSigmoid(z):\n",
    "        exp_z = np.exp(z)\n",
    "        return exp_z / (1+exp_z)\n",
    "\n",
    "    @staticmethod\n",
    "    def getSoftmax(z, tau=1):\n",
    "        exp_z = np.exp((z - np.max(z)) / tau)\n",
    "        return exp_z / exp_z.sum()\n",
    "\n",
    "    def piSoftmax(self, state):\n",
    "        q = self.getQ(state)\n",
    "        p = self.getSoftmax(q).reshape(-1)\n",
    "        a = np.random.choice(self.dimAction, p=p)\n",
    "        return a\n",
    "\n",
    "    def runEpisode1(self, saveRB=True, maxStep=200, render=False):\n",
    "        obs = self.env.reset()\n",
    "        s = self.getStateRep(obs)\n",
    "        done = False\n",
    "        ret = 0\n",
    "        nStep = 0\n",
    "        while not done:\n",
    "            if render:\n",
    "                self.env.render()\n",
    "            a = self.getAction(s)\n",
    "            # a = self.piSoftmax(s)\n",
    "            obs, r, done, info = self.env.step(a)\n",
    "            r = reward(obs, r)\n",
    "            ret += r\n",
    "            sp = self.getStateRep(obs)\n",
    "            if saveRB:\n",
    "                self.rb.push(s, a, r, sp, done)\n",
    "            s = sp\n",
    "            nStep += 1\n",
    "            if nStep >= maxStep:  # 500 for v1\n",
    "                break\n",
    "        self.nStep = nStep\n",
    "        return ret\n",
    "    \n",
    "    \n",
    "    def runTest(self, nEpisode=1, maxStep=1000):\n",
    "        eps = self.eps\n",
    "        self.eps = 0\n",
    "        i = 0\n",
    "        while i < nEpisode:\n",
    "            i += 1\n",
    "            ret = self.runEpisode1(saveRB=False, maxStep=maxStep, render=True)\n",
    "            print(f\"Test episode {i}, return = {ret} in {self.nStep} steps\")\n",
    "        self.eps = eps"
   ]
  },
  {
   "cell_type": "code",
   "execution_count": 11,
   "metadata": {},
   "outputs": [],
   "source": [
    "class MLP(torch.nn.Module):\n",
    "    def __init__(self, lsize):\n",
    "        super().__init__()\n",
    "        self.layers = nn.ModuleList()\n",
    "        self.n_layers = len(lsize) - 1\n",
    "        for i in range(self.n_layers):\n",
    "            self.layers.append(torch.nn.Linear(lsize[i], lsize[i+1]))\n",
    "            # self.layers.append(nn.BatchNorm2d(lsize[i]))\n",
    "\n",
    "    def forward(self, x):\n",
    "        x = x.reshape(x.size(0), -1)\n",
    "        for i in range(self.n_layers):\n",
    "            x = self.layers[i](x)\n",
    "            if i < self.n_layers-1:\n",
    "                # x = torch.tanh(x)\n",
    "                x = F.relu(x)\n",
    "        return x  # softmax is done within F.cross_entropy\n",
    "        # return F.softmax(x, dim=-1)\n",
    "\n",
    "    def save(self, fn):\n",
    "        torch.save(self.state_dict(), fn)\n",
    "\n",
    "    def load(self, fn):\n",
    "        self.load_state_dict(torch.load(fn))\n"
   ]
  }
 ],
 "metadata": {
  "kernelspec": {
   "display_name": "Python 3",
   "language": "python",
   "name": "python3"
  },
  "language_info": {
   "codemirror_mode": {
    "name": "ipython",
    "version": 3
   },
   "file_extension": ".py",
   "mimetype": "text/x-python",
   "name": "python",
   "nbconvert_exporter": "python",
   "pygments_lexer": "ipython3",
   "version": "3.8.3"
  }
 },
 "nbformat": 4,
 "nbformat_minor": 4
}
