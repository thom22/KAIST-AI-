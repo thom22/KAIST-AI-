{
 "cells": [
  {
   "cell_type": "markdown",
   "metadata": {
    "tags": []
   },
   "source": [
    "# \"Student\" MDP\n",
    "\n",
    "<img src=\"figures/L1-0.png\">"
   ]
  },
  {
   "cell_type": "markdown",
   "metadata": {},
   "source": [
    "<img src=\"figures/L1-1.png\">"
   ]
  },
  {
   "cell_type": "code",
   "execution_count": 1,
   "metadata": {},
   "outputs": [
    {
     "name": "stdout",
     "output_type": "stream",
     "text": [
      "[1. 1. 1. 1. 1. 1.]\n"
     ]
    }
   ],
   "source": [
    "import numpy as np\n",
    "\n",
    "P = np.array([[0,1,0,0,0,0],\n",
    "              [0,0.5,0.3,0.2,0,0],\n",
    "              [0.5,0.5,0,0,0,0],\n",
    "              [0,0,0,0.5,0.5,0],\n",
    "              [0.2,0,0,0,0.7,0.1],\n",
    "              [0,0,0,0,0,1]])\n",
    "print(P.sum(axis=1))"
   ]
  },
  {
   "cell_type": "code",
   "execution_count": 2,
   "metadata": {},
   "outputs": [
    {
     "name": "stdout",
     "output_type": "stream",
     "text": [
      "v1= [0. 1. 0. 0. 0. 0.]\n",
      "v2= [0.  0.5 0.3 0.2 0.  0. ]\n",
      "v3= [0.15 0.4  0.15 0.2  0.1  0.  ]\n"
     ]
    }
   ],
   "source": [
    "v0 = np.array([1,0,0,0,0,0])\n",
    "v1 = np.matmul(v0,P)\n",
    "print('v1=', v1)\n",
    "v2 = np.matmul(v1,P)\n",
    "print('v2=', v2)\n",
    "v3 = np.matmul(v2,P)\n",
    "print('v3=', v3)"
   ]
  },
  {
   "cell_type": "markdown",
   "metadata": {},
   "source": [
    "<img src=\"figures/L1-2.png\">"
   ]
  },
  {
   "cell_type": "code",
   "execution_count": 3,
   "metadata": {},
   "outputs": [
    {
     "name": "stdout",
     "output_type": "stream",
     "text": [
      "v= [4.10133014e-62 1.28855265e-61 3.97485910e-62 5.45387901e-62\n",
      " 1.00061246e-61 1.00000000e+00]\n"
     ]
    }
   ],
   "source": [
    "v = np.array([1,0,0,0,0,0])\n",
    "for i in range(5000):\n",
    "    v = np.matmul(v,P)\n",
    "print ('v=', v)"
   ]
  },
  {
   "cell_type": "code",
   "execution_count": 4,
   "metadata": {},
   "outputs": [
    {
     "name": "stdout",
     "output_type": "stream",
     "text": [
      "[ 1.        +0.j         -0.18383129+0.35815871j -0.18383129-0.35815871j\n",
      "  0.97252704+0.j          0.54756777+0.18234902j  0.54756777-0.18234902j]\n",
      "d =  [0. 0. 0. 0. 0. 1.]\n"
     ]
    }
   ],
   "source": [
    "w,v = np.linalg.eig(P.T)\n",
    "print(w)\n",
    "d = np.real_if_close(v[:,0])\n",
    "print(\"d = \", d/d.sum())  # sum to 1"
   ]
  },
  {
   "cell_type": "markdown",
   "metadata": {},
   "source": [
    "* It is natural that p[absorbing state] = 1  \n",
    "    * RIP is an absorbing state\n",
    "* What if there is no absorbing state?\n",
    "\n",
    "<img src=\"figures/L1-3.png\">"
   ]
  },
  {
   "cell_type": "code",
   "execution_count": 5,
   "metadata": {},
   "outputs": [
    {
     "name": "stdout",
     "output_type": "stream",
     "text": [
      "[-0.18616765+0.36182691j -0.18616765-0.36182691j  1.        +0.j\n",
      "  0.5954077 +0.24703993j  0.5954077 -0.24703993j  0.38151989+0.j        ]\n",
      "d= [0.12280702 0.35087719 0.10526316 0.14035088 0.23391813 0.04678363]\n"
     ]
    }
   ],
   "source": [
    "P = np.array([[0,1,0,0,0,0],\n",
    "              [0,0.5,0.3,0.2,0,0],\n",
    "              [0.5,0.5,0,0,0,0],\n",
    "              [0,0,0,0.5,0.5,0],\n",
    "              [0.2,0,0,0,0.7,0.1],\n",
    "              [0.5,0,0,0,0,0.5]])\n",
    "\n",
    "w,v = np.linalg.eig(P.T)\n",
    "print(w)\n",
    "d = np.real_if_close(v[:,2])\n",
    "print(\"d=\", d/d.sum())  # sum to 1"
   ]
  },
  {
   "cell_type": "markdown",
   "metadata": {},
   "source": [
    "### Markov Reward Process\n",
    "- Reward function R(s)\n",
    "\n",
    "<img src=\"figures/L1-4.png\">"
   ]
  },
  {
   "cell_type": "code",
   "execution_count": 6,
   "metadata": {},
   "outputs": [],
   "source": [
    "R = np.array([1,-2,1.5,0,1.1,0]).T\n",
    "gamma = 0.99"
   ]
  },
  {
   "cell_type": "code",
   "execution_count": 7,
   "metadata": {},
   "outputs": [
    {
     "name": "stdout",
     "output_type": "stream",
     "text": [
      "V= [-2.94097512 -4.11675565 -1.86236763  1.68825761  1.37251683 -2.60757649]\n"
     ]
    }
   ],
   "source": [
    "# fixed point iteration\n",
    "V = np.zeros(6)\n",
    "for i in range(10):\n",
    "    V = R + gamma*np.matmul(P,V)\n",
    "print(\"V=\", V)    "
   ]
  },
  {
   "cell_type": "code",
   "execution_count": 8,
   "metadata": {},
   "outputs": [
    {
     "name": "stdout",
     "output_type": "stream",
     "text": [
      "V= [-17.72490151 -18.91404193 -16.63627701 -13.18493386 -13.45129616\n",
      " -17.37391336]\n"
     ]
    }
   ],
   "source": [
    "# direct method using inverse\n",
    "MI = np.linalg.inv(np.eye(6)-gamma*P)\n",
    "V = np.matmul(MI,R)\n",
    "print(\"V=\", V)"
   ]
  },
  {
   "cell_type": "markdown",
   "metadata": {},
   "source": [
    "<img src=\"figures/L1-5.png\">"
   ]
  },
  {
   "cell_type": "code",
   "execution_count": 9,
   "metadata": {},
   "outputs": [
    {
     "name": "stdout",
     "output_type": "stream",
     "text": [
      "[1. 1. 1. 1. 1. 1.]\n",
      "[1. 1. 1. 1. 1. 1.]\n"
     ]
    }
   ],
   "source": [
    "P_easy = np.array([[0.7,0.3,0,0,0,0],\n",
    "                   [0,0,0.5,0.5,0,0],\n",
    "                   [0.5,0.5,0,0,0,0],\n",
    "                   [0,0,0.5,0.5,0,0],\n",
    "                   [0,0,0,0,0.9,0.1],\n",
    "                   [0,0,0,0,0,1]])\n",
    "print(P_easy.sum(axis=1))\n",
    "R_easy = np.array([1,2,1.5,0,0,0]).T\n",
    "\n",
    "P_hard = np.array([[0.3,0.7,0,0,0,0],\n",
    "                   [0,0.7,0,0.3,0,0],\n",
    "                   [0.5,0.5,0,0,0,0],\n",
    "                   [0,0.7,0,0.3,0,0],\n",
    "                   [0.6,0,0,0,0.3,0.1],\n",
    "                   [0,0,0,0,0,1]])\n",
    "print(P_hard.sum(axis=1))\n",
    "R_hard = np.array([1,1,1.5,0,1.7,0]).T"
   ]
  },
  {
   "cell_type": "markdown",
   "metadata": {},
   "source": [
    "### Direct method using matrix inversion\n",
    "<img src=\"figures/L1-6.png\">"
   ]
  },
  {
   "cell_type": "code",
   "execution_count": 10,
   "metadata": {},
   "outputs": [
    {
     "name": "stdout",
     "output_type": "stream",
     "text": [
      "[110.86343556 111.2292078  111.43585846 109.2292078    0.\n",
      "   0.        ]\n"
     ]
    }
   ],
   "source": [
    "V_easy = np.matmul(np.linalg.inv(np.eye(6)-gamma*P_easy),R_easy)\n",
    "print (V_easy)"
   ]
  },
  {
   "cell_type": "code",
   "execution_count": 11,
   "metadata": {},
   "outputs": [
    {
     "name": "stdout",
     "output_type": "stream",
     "text": [
      "[70.72247511 70.3        71.30612518 69.3        62.17517811  0.        ]\n"
     ]
    }
   ],
   "source": [
    "V_hard = np.matmul(np.linalg.inv(np.eye(6)-gamma*P_hard),R_hard)\n",
    "print (V_hard)"
   ]
  },
  {
   "cell_type": "markdown",
   "metadata": {},
   "source": [
    "### Fibonacci seq.\n",
    "F(0) = F(1) = 1\n",
    "F(n) = F(n-1) + F(n-1)"
   ]
  },
  {
   "cell_type": "code",
   "execution_count": 15,
   "metadata": {},
   "outputs": [
    {
     "name": "stdout",
     "output_type": "stream",
     "text": [
      "9227465\n"
     ]
    }
   ],
   "source": [
    "def fiboRec(n):\n",
    "    if n <= 1: return n\n",
    "    return fiboRec(n-1) + fiboRec(n-2)\n",
    "\n",
    "print (fiboRec(35))"
   ]
  },
  {
   "cell_type": "code",
   "execution_count": 13,
   "metadata": {},
   "outputs": [
    {
     "name": "stdout",
     "output_type": "stream",
     "text": [
      "102334155\n"
     ]
    }
   ],
   "source": [
    "def fiboForward (N):\n",
    "    F = [0] * (N+1)\n",
    "    F[0] = 0\n",
    "    F[1] = 1\n",
    "    for n in range(2,N+1):\n",
    "        F[n] = F[n-1] + F[n-2]\n",
    "    return F[N]\n",
    "\n",
    "print (fiboForward(40))"
   ]
  },
  {
   "cell_type": "markdown",
   "metadata": {},
   "source": [
    "### Iterative method\n",
    "<img src=\"figures/L1-7.png\">"
   ]
  },
  {
   "cell_type": "code",
   "execution_count": 14,
   "metadata": {},
   "outputs": [
    {
     "name": "stdout",
     "output_type": "stream",
     "text": [
      "[110.85865589 111.22442813 111.43107879 109.22442813   0.\n",
      "   0.        ]\n",
      "[70.71945312 70.29697801 71.30310319 69.29697801 62.17258784  0.        ]\n"
     ]
    }
   ],
   "source": [
    "V_easy = np.zeros(6)\n",
    "V_hard = np.zeros(6)\n",
    "for i in range(1000):\n",
    "    V_easy = R_easy + gamma*np.matmul(P_easy, V_easy)\n",
    "    V_hard = R_hard + gamma*np.matmul(P_hard, V_hard)\n",
    "print (V_easy)\n",
    "print (V_hard)"
   ]
  },
  {
   "cell_type": "markdown",
   "metadata": {},
   "source": [
    "## Optimal value function\n",
    "<img src=\"figures/L1-8.png\">"
   ]
  },
  {
   "cell_type": "code",
   "execution_count": 15,
   "metadata": {},
   "outputs": [
    {
     "name": "stdout",
     "output_type": "stream",
     "text": [
      "[121.01972202 121.32311218 121.45965076 119.59724691 104.67378402\n",
      "   0.        ]\n"
     ]
    }
   ],
   "source": [
    "V_opt = np.zeros(6)\n",
    "V = np.zeros((6,2))\n",
    "for i in range(1000):\n",
    "    V[:,0] = R_easy + gamma*np.matmul(P_easy, V_opt)\n",
    "    V[:,1] = R_hard + gamma*np.matmul(P_hard, V_opt)\n",
    "    V_opt = V.max(axis=1)\n",
    "print (V_opt)"
   ]
  },
  {
   "cell_type": "markdown",
   "metadata": {},
   "source": [
    "<img src=\"figures/L1-9.png\">"
   ]
  },
  {
   "cell_type": "code",
   "execution_count": 16,
   "metadata": {},
   "outputs": [
    {
     "name": "stdout",
     "output_type": "stream",
     "text": [
      "[[120.89957951 121.01972202]\n",
      " [121.32311218 120.59724691]\n",
      " [121.45965076 121.45965076]\n",
      " [119.32311218 119.59724691]\n",
      " [ 93.26430132 104.67378402]\n",
      " [  0.           0.        ]]\n",
      "[121.01972202 121.32311218 121.45965076 119.59724691 104.67378402\n",
      "   0.        ]\n"
     ]
    }
   ],
   "source": [
    "Q_opt = np.zeros((6,2))\n",
    "V_opt = np.zeros(6)\n",
    "for i in range(1000):\n",
    "    Q_opt[:,0] = R_easy + gamma*np.matmul(P_easy, V_opt)\n",
    "    Q_opt[:,1] = R_hard + gamma*np.matmul(P_hard, V_opt)\n",
    "    V_opt = Q_opt.max(axis=1)\n",
    "print (Q_opt)\n",
    "print (V_opt)"
   ]
  },
  {
   "cell_type": "markdown",
   "metadata": {},
   "source": [
    "<img src=\"figures/L1-10.png\">"
   ]
  },
  {
   "cell_type": "code",
   "execution_count": 17,
   "metadata": {},
   "outputs": [],
   "source": [
    "def move(i,j,h,w,a):\n",
    "    ip, jp = i, j\n",
    "    if a == 0 :  # left\n",
    "        if j > 0: jp = j-1\n",
    "    elif a == 1: # right\n",
    "        if j < w-1: jp = j+1\n",
    "    elif a == 2: # up\n",
    "        if i > 0: ip = i-1\n",
    "    elif a == 3: # down\n",
    "        if i < h-1: ip = i+1\n",
    "    return ip, jp\n",
    "    \n",
    "def gridworldGetP(w,h,a,terminal=[]):\n",
    "    n = w*h\n",
    "    P = np.zeros((n,n))\n",
    "    for i in range(h):\n",
    "        for j in range(w):\n",
    "            k = i*w + j\n",
    "            if k in terminal: continue\n",
    "            ip,jp = move(i,j,h,w,a)\n",
    "            kp = ip*w + jp\n",
    "            P[k,kp] = 1\n",
    "    for k in terminal:\n",
    "        P[k,k] = 1\n",
    "    return P\n",
    "\n",
    "# P = gridworldGetP(4,4,0,[0,15])\n",
    "# print (P)\n",
    "# print (P.sum(axis=1))"
   ]
  },
  {
   "cell_type": "code",
   "execution_count": 18,
   "metadata": {},
   "outputs": [],
   "source": [
    "# make model for shortest path\n",
    "terminal = [0,15]\n",
    "P = []\n",
    "for a in range(4):\n",
    "    Pa = gridworldGetP(4,4,a,terminal)\n",
    "    P.append(Pa)\n",
    "    \n",
    "R = np.full((16,4),-1)\n",
    "for s in terminal: \n",
    "    R[s,:] = 0\n",
    "    \n",
    "gamma = 1\n",
    "\n",
    "# random policy\n",
    "pi = np.full((16,4),0.25)"
   ]
  },
  {
   "cell_type": "code",
   "execution_count": 19,
   "metadata": {},
   "outputs": [
    {
     "name": "stdout",
     "output_type": "stream",
     "text": [
      "[ 0. -1. -1. -1. -1. -1. -1. -1. -1. -1. -1. -1. -1. -1. -1.  0.]\n",
      "[[1.   0.   0.   0.   0.   0.   0.   0.   0.   0.   0.   0.   0.   0.\n",
      "  0.   0.  ]\n",
      " [0.25 0.25 0.25 0.   0.   0.25 0.   0.   0.   0.   0.   0.   0.   0.\n",
      "  0.   0.  ]\n",
      " [0.   0.25 0.25 0.25 0.   0.   0.25 0.   0.   0.   0.   0.   0.   0.\n",
      "  0.   0.  ]\n",
      " [0.   0.   0.25 0.5  0.   0.   0.   0.25 0.   0.   0.   0.   0.   0.\n",
      "  0.   0.  ]\n",
      " [0.25 0.   0.   0.   0.25 0.25 0.   0.   0.25 0.   0.   0.   0.   0.\n",
      "  0.   0.  ]\n",
      " [0.   0.25 0.   0.   0.25 0.   0.25 0.   0.   0.25 0.   0.   0.   0.\n",
      "  0.   0.  ]\n",
      " [0.   0.   0.25 0.   0.   0.25 0.   0.25 0.   0.   0.25 0.   0.   0.\n",
      "  0.   0.  ]\n",
      " [0.   0.   0.   0.25 0.   0.   0.25 0.25 0.   0.   0.   0.25 0.   0.\n",
      "  0.   0.  ]\n",
      " [0.   0.   0.   0.   0.25 0.   0.   0.   0.25 0.25 0.   0.   0.25 0.\n",
      "  0.   0.  ]\n",
      " [0.   0.   0.   0.   0.   0.25 0.   0.   0.25 0.   0.25 0.   0.   0.25\n",
      "  0.   0.  ]\n",
      " [0.   0.   0.   0.   0.   0.   0.25 0.   0.   0.25 0.   0.25 0.   0.\n",
      "  0.25 0.  ]\n",
      " [0.   0.   0.   0.   0.   0.   0.   0.25 0.   0.   0.25 0.25 0.   0.\n",
      "  0.   0.25]\n",
      " [0.   0.   0.   0.   0.   0.   0.   0.   0.25 0.   0.   0.   0.5  0.25\n",
      "  0.   0.  ]\n",
      " [0.   0.   0.   0.   0.   0.   0.   0.   0.   0.25 0.   0.   0.25 0.25\n",
      "  0.25 0.  ]\n",
      " [0.   0.   0.   0.   0.   0.   0.   0.   0.   0.   0.25 0.   0.   0.25\n",
      "  0.25 0.25]\n",
      " [0.   0.   0.   0.   0.   0.   0.   0.   0.   0.   0.   0.   0.   0.\n",
      "  0.   1.  ]]\n",
      "[1. 1. 1. 1. 1. 1. 1. 1. 1. 1. 1. 1. 1. 1. 1. 1.]\n",
      "[[ 0. -1. -1. -1.]\n",
      " [-1. -1. -1. -1.]\n",
      " [-1. -1. -1. -1.]\n",
      " [-1. -1. -1.  0.]]\n",
      "[[ 0.   -1.75 -2.   -2.  ]\n",
      " [-1.75 -2.   -2.   -2.  ]\n",
      " [-2.   -2.   -2.   -1.75]\n",
      " [-2.   -2.   -1.75  0.  ]]\n",
      "[[ 0.     -2.4375 -2.9375 -3.    ]\n",
      " [-2.4375 -2.875  -3.     -2.9375]\n",
      " [-2.9375 -3.     -2.875  -2.4375]\n",
      " [-3.     -2.9375 -2.4375  0.    ]]\n",
      "[[ 0.      -3.0625  -3.84375 -3.96875]\n",
      " [-3.0625  -3.71875 -3.90625 -3.84375]\n",
      " [-3.84375 -3.90625 -3.71875 -3.0625 ]\n",
      " [-3.96875 -3.84375 -3.0625   0.     ]]\n",
      "[[ 0.        -3.65625   -4.6953125 -4.90625  ]\n",
      " [-3.65625   -4.484375  -4.78125   -4.6953125]\n",
      " [-4.6953125 -4.78125   -4.484375  -3.65625  ]\n",
      " [-4.90625   -4.6953125 -3.65625    0.       ]]\n",
      "[[ 0.         -4.20898438 -5.50976562 -5.80078125]\n",
      " [-4.20898438 -5.21875    -5.58984375 -5.50976562]\n",
      " [-5.50976562 -5.58984375 -5.21875    -4.20898438]\n",
      " [-5.80078125 -5.50976562 -4.20898438  0.        ]]\n",
      "[[ 0.         -4.734375   -6.27734375 -6.65527344]\n",
      " [-4.734375   -5.89941406 -6.36425781 -6.27734375]\n",
      " [-6.27734375 -6.36425781 -5.89941406 -4.734375  ]\n",
      " [-6.65527344 -6.27734375 -4.734375    0.        ]]\n",
      "[[ 0.         -5.2277832  -7.0078125  -7.46630859]\n",
      " [-5.2277832  -6.54931641 -7.08837891 -7.0078125 ]\n",
      " [-7.0078125  -7.08837891 -6.54931641 -5.2277832 ]\n",
      " [-7.46630859 -7.0078125  -5.2277832   0.        ]]\n",
      "[[ 0.         -5.69622803 -7.6975708  -8.23706055]\n",
      " [-5.69622803 -7.15808105 -7.77856445 -7.6975708 ]\n",
      " [-7.6975708  -7.77856445 -7.15808105 -5.69622803]\n",
      " [-8.23706055 -7.6975708  -5.69622803  0.        ]]\n",
      "[[ 0.         -6.13796997 -8.35235596 -8.96731567]\n",
      " [-6.13796997 -7.73739624 -8.42782593 -8.35235596]\n",
      " [-8.35235596 -8.42782593 -7.73739624 -6.13796997]\n",
      " [-8.96731567 -8.35235596 -6.13796997  0.        ]]\n",
      "[[ 0.         -6.55693054 -8.97136688 -9.65983582]\n",
      " [-6.55693054 -8.28289795 -9.0448761  -8.97136688]\n",
      " [-8.97136688 -9.0448761  -8.28289795 -6.55693054]\n",
      " [-9.65983582 -8.97136688 -6.55693054  0.        ]]\n",
      "[[  0.          -6.95279884  -9.55825233 -10.31560135]\n",
      " [ -6.95279884  -8.80090332  -9.62713242  -9.55825233]\n",
      " [ -9.55825233  -9.62713242  -8.80090332  -6.95279884]\n",
      " [-10.31560135  -9.55825233  -6.95279884   0.        ]]\n",
      "[[  0.          -7.32798862 -10.11344624 -10.93692684]\n",
      " [ -7.32798862  -9.28996563 -10.17957783 -10.11344624]\n",
      " [-10.11344624 -10.17957783  -9.28996563  -7.32798862]\n",
      " [-10.93692684 -10.11344624  -7.32798862   0.        ]]\n",
      "[[  0.          -7.68285012 -10.63948488 -11.52518654]\n",
      " [ -7.68285012  -9.75378323 -10.70170593 -10.63948488]\n",
      " [-10.63948488 -10.70170593  -9.75378323  -7.68285012]\n",
      " [-11.52518654 -10.63948488  -7.68285012   0.        ]]\n",
      "[[  0.          -8.01902956 -11.13730687 -12.08233571]\n",
      " [ -8.01902956 -10.19227803 -11.19663405 -11.13730687]\n",
      " [-11.13730687 -11.19663405 -10.19227803  -8.01902956]\n",
      " [-12.08233571 -11.13730687  -8.01902956   0.        ]]\n",
      "[[  0.          -8.33715361 -11.60882655 -12.60982129]\n",
      " [ -8.33715361 -10.60783181 -11.66479245 -11.60882655]\n",
      " [-11.60882655 -11.66479245 -10.60783181  -8.33715361]\n",
      " [-12.60982129 -11.60882655  -8.33715361   0.        ]]\n",
      "[[  0.          -8.63845299 -12.05514847 -13.10932392]\n",
      " [ -8.63845299 -11.00097303 -12.10832918 -12.05514847]\n",
      " [-12.05514847 -12.10832918 -11.00097303  -8.63845299]\n",
      " [-13.10932392 -12.05514847  -8.63845299   0.        ]]\n",
      "[[  0.          -8.92364362 -12.47781364 -13.5822362 ]\n",
      " [ -8.92364362 -11.37339108 -12.52806075 -12.47781364]\n",
      " [-12.47781364 -12.52806075 -11.37339108  -8.92364362]\n",
      " [-13.5822362  -12.47781364  -8.92364362   0.        ]]\n",
      "[[  0.          -9.19371209 -12.87793855 -14.03002492]\n",
      " [ -9.19371209 -11.72585219 -12.92560236 -12.87793855]\n",
      " [-12.87793855 -12.92560236 -11.72585219  -9.19371209]\n",
      " [-14.03002492 -12.87793855  -9.19371209   0.        ]]\n",
      "[[  0.          -9.44937571 -13.25681948 -14.45398174]\n",
      " [ -9.44937571 -12.05965722 -13.30189537 -13.25681948]\n",
      " [-13.25681948 -13.30189537 -12.05965722  -9.44937571]\n",
      " [-14.45398174 -13.25681948  -9.44937571   0.        ]]\n"
     ]
    }
   ],
   "source": [
    "R_rand = (pi * R).sum(axis=1)\n",
    "print (R_rand)\n",
    "\n",
    "P_rand = np.zeros((16,16))\n",
    "for s in range(16):\n",
    "    for a in range(4):\n",
    "        P_rand[s,:] += pi[s,a] * P[a][s,:]\n",
    "print (P_rand)\n",
    "print (P_rand.sum(axis=1))\n",
    "\n",
    "# iterative evaluation of random policy (synch. backup, matrix version)\n",
    "V_rand = np.zeros(16)\n",
    "for i in range(20):\n",
    "    V_rand = R_rand + gamma*np.matmul(P_rand, V_rand)\n",
    "    print (V_rand.reshape(4,4))"
   ]
  },
  {
   "cell_type": "code",
   "execution_count": 20,
   "metadata": {},
   "outputs": [
    {
     "name": "stdout",
     "output_type": "stream",
     "text": [
      "[[  0.         -11.42591538 -16.29940807 -17.92681232]\n",
      " [-11.42591538 -14.84125831 -16.57033147 -16.60954761]\n",
      " [-16.29940807 -16.57033147 -15.10598674 -11.83929409]\n",
      " [-17.92681232 -16.60954761 -11.83929409   0.        ]]\n"
     ]
    }
   ],
   "source": [
    "# iterative policy evaluation (asynch. backup)\n",
    "def policyEvaluation(P, R, gamma, pi, V, k):\n",
    "    for i in range(k):\n",
    "        for s in range(16):\n",
    "            sum = 0.0\n",
    "            for a in range(4):\n",
    "                sum += pi[s,a]*(R[s,a]+gamma*np.dot(P[a][s,:],V))\n",
    "            V[s] = sum\n",
    "    return V\n",
    "\n",
    "V = policyEvaluation(P, R, gamma, pi, np.zeros(16), 20)\n",
    "print (V.reshape(4,4))"
   ]
  },
  {
   "cell_type": "code",
   "execution_count": 21,
   "metadata": {},
   "outputs": [],
   "source": [
    "# greedy policy improvement\n",
    "def getQ(V, P, R, gamma):\n",
    "    Q = np.zeros((16,4))\n",
    "    for s in range(16):\n",
    "        for a in range(4):\n",
    "            Q[s,a] = R[s,a] + gamma*np.dot(P[a][s,:],V)\n",
    "    return Q\n",
    "\n",
    "def greedy(Q):\n",
    "    pi = np.zeros((16,4))\n",
    "    for s in range(16):\n",
    "        a = np.argmax(Q[s,:])\n",
    "        pi[s,a] = 1\n",
    "    return pi\n",
    "\n",
    "def greedyPolicy(V, P, R, gamma):\n",
    "    Q = getQ(V, P, R, gamma)\n",
    "    # print(Q)\n",
    "    pi = greedy(Q)\n",
    "    # print (pi)\n",
    "    return pi"
   ]
  },
  {
   "cell_type": "code",
   "execution_count": 22,
   "metadata": {},
   "outputs": [
    {
     "name": "stdout",
     "output_type": "stream",
     "text": [
      "[[ 0.        -1.        -1.25      -1.3125   ]\n",
      " [-1.        -1.5       -1.6875    -1.75     ]\n",
      " [-1.25      -1.6875    -1.84375   -1.8984375]\n",
      " [-1.3125    -1.75      -1.8984375  0.       ]]\n",
      "[[ 0. -1. -2. -3.]\n",
      " [-1. -2. -3. -4.]\n",
      " [-2. -3. -4. -1.]\n",
      " [-3. -4. -1.  0.]]\n",
      "[[ 0. -1. -2. -3.]\n",
      " [-1. -2. -3. -2.]\n",
      " [-2. -3. -2. -1.]\n",
      " [-3. -2. -1.  0.]]\n",
      "[[ 0. -1. -2. -3.]\n",
      " [-1. -2. -3. -2.]\n",
      " [-2. -3. -2. -1.]\n",
      " [-3. -2. -1.  0.]]\n",
      "[[0 0 0 0]\n",
      " [2 0 0 3]\n",
      " [2 0 1 3]\n",
      " [1 1 1 0]]\n"
     ]
    }
   ],
   "source": [
    "# Policy iteration\n",
    "k = 1\n",
    "V = np.zeros(16)\n",
    "for i in range(100):\n",
    "    V = policyEvaluation(P, R, gamma, pi, V, k)\n",
    "    print (V.reshape(4,4))\n",
    "    pi_old = pi\n",
    "    pi = greedyPolicy(V, P, R, gamma)\n",
    "    if np.equal(pi, pi_old).all():\n",
    "        break\n",
    "dpi = np.argmax(pi,axis=1)\n",
    "print (dpi.reshape(4,4))\n"
   ]
  },
  {
   "cell_type": "code",
   "execution_count": 23,
   "metadata": {},
   "outputs": [
    {
     "name": "stdout",
     "output_type": "stream",
     "text": [
      "[[ 0. -1. -1. -1.]\n",
      " [-1. -1. -1. -1.]\n",
      " [-1. -1. -1. -1.]\n",
      " [-1. -1. -1.  0.]]\n",
      "[[ 0. -1. -2. -2.]\n",
      " [-1. -2. -2. -2.]\n",
      " [-2. -2. -2. -1.]\n",
      " [-2. -2. -1.  0.]]\n",
      "[[ 0. -1. -2. -3.]\n",
      " [-1. -2. -3. -2.]\n",
      " [-2. -3. -2. -1.]\n",
      " [-3. -2. -1.  0.]]\n",
      "[[ 0. -1. -2. -3.]\n",
      " [-1. -2. -3. -2.]\n",
      " [-2. -3. -2. -1.]\n",
      " [-3. -2. -1.  0.]]\n",
      "[[ 0. -1. -2. -3.]\n",
      " [-1. -2. -3. -2.]\n",
      " [-2. -3. -2. -1.]\n",
      " [-3. -2. -1.  0.]]\n"
     ]
    }
   ],
   "source": [
    "# value iteration (synchronous backup)\n",
    "V = np.zeros(16)\n",
    "Va = np.zeros(4)\n",
    "for k in range(5):\n",
    "    Vnew = np.zeros(16)\n",
    "    for s in range(16):\n",
    "        for a in range(4):\n",
    "            Va[a] = R[s,a] + gamma*np.dot(P[a][s,:], V)\n",
    "        Vnew[s] = np.max(Va)\n",
    "    V = Vnew\n",
    "    print (V.reshape(4,4))"
   ]
  },
  {
   "cell_type": "code",
   "execution_count": 24,
   "metadata": {},
   "outputs": [
    {
     "name": "stdout",
     "output_type": "stream",
     "text": [
      "[[0. 0. 0. 0.]\n",
      " [0. 0. 0. 0.]\n",
      " [0. 0. 0. 0.]\n",
      " [0. 0. 0. 0.]]\n",
      "[[ 0. -1. -1. -1.]\n",
      " [-1. -1. -1. -1.]\n",
      " [-1. -1. -1. -1.]\n",
      " [-1. -1. -1.  0.]]\n",
      "[[ 0. -1. -2. -2.]\n",
      " [-1. -2. -2. -2.]\n",
      " [-2. -2. -2. -1.]\n",
      " [-2. -2. -1.  0.]]\n",
      "[[ 0. -1. -2. -3.]\n",
      " [-1. -2. -3. -2.]\n",
      " [-2. -3. -2. -1.]\n",
      " [-3. -2. -1.  0.]]\n"
     ]
    }
   ],
   "source": [
    "# Asynchronous VI : In-place VI\n",
    "V = np.zeros(16)\n",
    "Va = np.zeros(4)\n",
    "for k in range(100):\n",
    "    print (V.reshape(4,4))\n",
    "    changed = False\n",
    "    for s in range(16):\n",
    "        for a in range(4):\n",
    "            Va[a] = R[s,a] + gamma*np.dot(P[a][s,:], V)\n",
    "        old = V[s]\n",
    "        V[s] = np.max(Va)\n",
    "        if abs(V[s]-old) > 0.0001:\n",
    "            changed = True\n",
    "    if not changed:\n",
    "        break"
   ]
  },
  {
   "cell_type": "markdown",
   "metadata": {},
   "source": [
    "### Shortest path\n",
    "<img src=\"figures/L1-11.png\">"
   ]
  },
  {
   "cell_type": "code",
   "execution_count": 25,
   "metadata": {},
   "outputs": [],
   "source": [
    "# make model for shortest path\n",
    "terminal = [0]\n",
    "P = []\n",
    "for a in range(4):\n",
    "    Pa = gridworldGetP(4,4,a,terminal)\n",
    "    P.append(Pa)\n",
    "    \n",
    "R = np.full((16,4),-1)\n",
    "for s in terminal: \n",
    "    R[s,:] = 0\n",
    "    \n",
    "gamma = 1"
   ]
  },
  {
   "cell_type": "code",
   "execution_count": 41,
   "metadata": {},
   "outputs": [
    {
     "name": "stdout",
     "output_type": "stream",
     "text": [
      "[[ 0. -1. -1. -1.]\n",
      " [-1. -1. -1. -1.]\n",
      " [-1. -1. -1. -1.]\n",
      " [-1. -1. -1. -1.]]\n",
      "[[ 0. -1. -2. -2.]\n",
      " [-1. -2. -2. -2.]\n",
      " [-2. -2. -2. -2.]\n",
      " [-2. -2. -2. -2.]]\n",
      "[[ 0. -1. -2. -3.]\n",
      " [-1. -2. -3. -3.]\n",
      " [-2. -3. -3. -3.]\n",
      " [-3. -3. -3. -3.]]\n",
      "[[ 0. -1. -2. -3.]\n",
      " [-1. -2. -3. -4.]\n",
      " [-2. -3. -4. -4.]\n",
      " [-3. -4. -4. -4.]]\n",
      "[[ 0. -1. -2. -3.]\n",
      " [-1. -2. -3. -4.]\n",
      " [-2. -3. -4. -5.]\n",
      " [-3. -4. -5. -5.]]\n",
      "[[ 0. -1. -2. -3.]\n",
      " [-1. -2. -3. -4.]\n",
      " [-2. -3. -4. -5.]\n",
      " [-3. -4. -5. -6.]]\n"
     ]
    }
   ],
   "source": [
    "# Synchronous VI\n",
    "V = np.zeros(16)\n",
    "Va = np.zeros(4)\n",
    "for k in range(6):\n",
    "    Vnew = np.zeros(16)\n",
    "    for s in range(16):\n",
    "        for a in range(4):\n",
    "            Va[a] = R[s,a] + gamma*np.dot(P[a][s,:], V)\n",
    "        Vnew[s] = np.max(Va)\n",
    "    V = Vnew\n",
    "    print (V.reshape(4,4))"
   ]
  },
  {
   "cell_type": "code",
   "execution_count": 42,
   "metadata": {},
   "outputs": [
    {
     "name": "stdout",
     "output_type": "stream",
     "text": [
      "[[ 0. -1. -1. -1.]\n",
      " [-1. -1. -1. -1.]\n",
      " [-1. -1. -1. -1.]\n",
      " [-1. -1. -1. -1.]]\n",
      "[[ 0. -1. -2. -2.]\n",
      " [-1. -2. -2. -2.]\n",
      " [-2. -2. -2. -2.]\n",
      " [-2. -2. -2. -2.]]\n",
      "[[ 0. -1. -2. -3.]\n",
      " [-1. -2. -3. -3.]\n",
      " [-2. -3. -3. -3.]\n",
      " [-3. -3. -3. -3.]]\n",
      "[[ 0. -1. -2. -3.]\n",
      " [-1. -2. -3. -4.]\n",
      " [-2. -3. -4. -4.]\n",
      " [-3. -4. -4. -4.]]\n",
      "[[ 0. -1. -2. -3.]\n",
      " [-1. -2. -3. -4.]\n",
      " [-2. -3. -4. -5.]\n",
      " [-3. -4. -5. -5.]]\n",
      "[[ 0. -1. -2. -3.]\n",
      " [-1. -2. -3. -4.]\n",
      " [-2. -3. -4. -5.]\n",
      " [-3. -4. -5. -6.]]\n"
     ]
    }
   ],
   "source": [
    "# Asynchronous VI : In-place VI\n",
    "V = np.zeros(16)\n",
    "for k in range(6):\n",
    "    for s in range(16):\n",
    "        for a in range(4):\n",
    "            Va[a] = R[s] + gamma*np.dot(P[a][s,:], V)\n",
    "        V[s] = np.max(Va)\n",
    "    print (V.reshape(4,4))"
   ]
  },
  {
   "cell_type": "code",
   "execution_count": null,
   "metadata": {},
   "outputs": [],
   "source": []
  }
 ],
 "metadata": {
  "kernelspec": {
   "display_name": "Python 3 (ipykernel)",
   "language": "python",
   "name": "python3"
  },
  "language_info": {
   "codemirror_mode": {
    "name": "ipython",
    "version": 3
   },
   "file_extension": ".py",
   "mimetype": "text/x-python",
   "name": "python",
   "nbconvert_exporter": "python",
   "pygments_lexer": "ipython3",
   "version": "3.8.13"
  }
 },
 "nbformat": 4,
 "nbformat_minor": 4
}